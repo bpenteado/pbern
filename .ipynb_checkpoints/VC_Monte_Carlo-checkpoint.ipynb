{
 "cells": [
  {
   "cell_type": "code",
   "execution_count": 2,
   "metadata": {
    "collapsed": true
   },
   "outputs": [],
   "source": [
    "import powerlaw\n",
    "import random\n",
    "\n",
    "def draw_from_powerlaw(alpha):\n",
    "    dist = powerlaw.Power_Law(xmin=1.0, parameters=[alpha])\n",
    "    return dist.generate_random()[0]\n",
    "\n",
    "def generate_stage_multiples(n, alpha):\n",
    "    stage_multiples = []\n",
    "    for _ in range(n):\n",
    "        multiple = random.choice([0,1,2])\n",
    "        if multiple == 2:\n",
    "            multiple = draw_from_powerlaw(alpha)\n",
    "        stage_multiples += [multiple]\n",
    "    return stage_multiples\n",
    "\n",
    "def generate_portfolio(seed_alpha, seed_n, seed_check, a_alpha, a_n, a_check, b_alpha, b_n, b_check):\n",
    "    \n",
    "    # Seed portfolio\n",
    "    seed_multiples = generate_stage_multiples(seed_n, seed_alpha)\n",
    "    seed_returns = [multiple*seed_check for multiple in seed_multiples]\n",
    "    \n",
    "    # Series A portfolio\n",
    "    series_a_multiples = generate_stage_multiples(a_n, a_alpha)\n",
    "    series_a_returns = [multiple*a_check for multiple in series_a_multiples]\n",
    "    \n",
    "    # Series B portfolio\n",
    "    series_b_multiples = generate_stage_multiples(b_n, b_alpha)\n",
    "    series_b_returns = [multiple*b_check for multiple in series_b_multiples]\n",
    "    \n",
    "    portfolio_returns = seed_returns + series_a_returns + series_b_returns\n",
    "    portfolio_cost = seed_n*seed_check + a_n*a_check + b_n*b_check\n",
    "    portfolio_multiple = sum(portfolio_returns)/portfolio_cost\n",
    "    \n",
    "    return portfolio_multiple\n",
    "\n",
    "def montecarlo_portfolios(seed_alpha, seed_n, seed_check, a_alpha, a_n, a_check, b_alpha, b_n, b_check, n_iter=10000):\n",
    "    portfolio_set = []\n",
    "    for _ in range(n_iter):\n",
    "        portfolio_set += [generate_portfolio(seed_alpha, seed_n, seed_check, a_alpha, a_n, a_check, b_alpha, b_n, b_check)]\n",
    "    return portfolio_set"
   ]
  },
  {
   "cell_type": "code",
   "execution_count": 18,
   "metadata": {},
   "outputs": [
    {
     "name": "stderr",
     "output_type": "stream",
     "text": [
      "/Users/bernardopenteado/anaconda/lib/python3.6/site-packages/matplotlib/axes/_axes.py:6462: UserWarning:\n",
      "\n",
      "The 'normed' kwarg is deprecated, and has been replaced by the 'density' kwarg.\n",
      "\n"
     ]
    },
    {
     "data": {
      "image/png": "[encoded data removed]",
      "text/plain": [
       "<Figure size 576x396 with 1 Axes>"
      ]
     },
     "metadata": {},
     "output_type": "display_data"
    }
   ],
   "source": [
    "import matplotlib.pyplot as plt\n",
    "import seaborn as sns\n",
    "\n",
    "hist_data = [montecarlo_portfolios(seed_alpha=1.98, seed_n=10, seed_check=100, a_alpha=2.1, a_n=10, a_check=1000, b_alpha=2.4, b_n=5, b_check=5000)]\n",
    "sns.distplot(hist_data, bins=int(np.amax(hist_data)), kde=True)\n",
    "plt.xlim(0, 10)\n",
    "plt.show()"
   ]
  },
  {
   "cell_type": "code",
   "execution_count": 34,
   "metadata": {},
   "outputs": [
    {
     "data": {
      "text/plain": [
       "841.5912209084593"
      ]
     },
     "execution_count": 34,
     "metadata": {},
     "output_type": "execute_result"
    }
   ],
   "source": [
    "import numpy as np\n",
    "\n",
    "np.var(hist_data)"
   ]
  },
  {
   "cell_type": "code",
   "execution_count": null,
   "metadata": {
    "collapsed": true
   },
   "outputs": [],
   "source": []
  }
 ],
 "metadata": {
  "kernelspec": {
   "display_name": "Python 3",
   "language": "python",
   "name": "python3"
  },
  "language_info": {
   "codemirror_mode": {
    "name": "ipython",
    "version": 3
   },
   "file_extension": ".py",
   "mimetype": "text/x-python",
   "name": "python",
   "nbconvert_exporter": "python",
   "pygments_lexer": "ipython3",
   "version": "3.6.6"
  }
 },
 "nbformat": 4,
 "nbformat_minor": 2
}
